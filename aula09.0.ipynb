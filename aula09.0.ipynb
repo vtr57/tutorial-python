{
 "cells": [
  {
   "cell_type": "markdown",
   "metadata": {},
   "source": [
    "# POO"
   ]
  },
  {
   "cell_type": "markdown",
   "metadata": {},
   "source": [
    "Programação Orientada a Objetos"
   ]
  },
  {
   "cell_type": "markdown",
   "metadata": {},
   "source": [
    "## Classes"
   ]
  },
  {
   "cell_type": "code",
   "execution_count": 1,
   "metadata": {},
   "outputs": [],
   "source": [
    "# classes: os moldes de objetos\n",
    "class Carro(): #palavra reservada class\n",
    "    \n",
    "    # métodos:\n",
    "    def __init__(self, cor, ano, marca, modelo): \n",
    "        \"\"\"__init__ é o nome padrão para iniciar uma classe\n",
    "        self: palavra geralmente usada para se referir ao objeto que será criado\"\"\"\n",
    "        self.cor = cor  #atributos\n",
    "        self.ano = ano \n",
    "        self.marca = marca\n",
    "        self.modelo = modelo\n",
    "        self.velocidade = 0\n",
    "    \n",
    "    def ligar_carro(self):\n",
    "        print('Ligando o carro')\n",
    "\n",
    "    def desligar_carro(self):\n",
    "        print('Desligando o carro')\n",
    "\n",
    "    def acelerar(self, aceleracao):\n",
    "        self.velocidade += aceleracao\n",
    "        return self.velocidade\n",
    "\n",
    "    def frear(self, desaceleracao):\n",
    "        self.velocidade -= desaceleracao\n",
    "        return self.velocidade\n"
   ]
  },
  {
   "cell_type": "markdown",
   "metadata": {},
   "source": [
    "## Instanciação"
   ]
  },
  {
   "cell_type": "code",
   "execution_count": 6,
   "metadata": {},
   "outputs": [],
   "source": [
    "# criando o objeto\n",
    "carro1 = Carro(ano=2020, cor='preto', marca='Audi', modelo='A8')"
   ]
  },
  {
   "cell_type": "code",
   "execution_count": 7,
   "metadata": {},
   "outputs": [
    {
     "name": "stdout",
     "output_type": "stream",
     "text": [
      "Ligando o carro\n",
      "0\n",
      "70\n",
      "50\n",
      "Desligando o carro\n"
     ]
    }
   ],
   "source": [
    "# executando os métodos do carro1\n",
    "carro1.ligar_carro() # método ligar_carro\n",
    "print(carro1.velocidade) # atributo velocidade\n",
    "carro1.acelerar(70)\n",
    "print(carro1.velocidade)\n",
    "carro1.frear(20)\n",
    "print(carro1.velocidade)\n",
    "carro1.desligar_carro()"
   ]
  },
  {
   "cell_type": "markdown",
   "metadata": {},
   "source": [
    "# Exercícios"
   ]
  },
  {
   "cell_type": "markdown",
   "metadata": {},
   "source": [
    "1. Crie uma classe chamada Pessoa com os atributos nome e idade. Em seguida, crie uma instância dessa classe e exiba os valores dos atributos.\n",
    "2. Adapte a classe Pessoa do exercício anterior para incluir um método chamado cumprimentar que imprime uma mensagem de saudação com o nome da pessoa.\n",
    "3. Crie uma classe chamada Círculo com um atributo raio e métodos para calcular a área e o perímetro do círculo.\n",
    "4. Crie uma classe chamada Livro com os atributos titulo, autor e ano. Em seguida, crie uma lista de objetos Livro e exiba as informações de cada livro.\n",
    "5. Crie uma classe chamada ContaBancaria com os atributos titular e saldo. Adicione métodos para depositar e sacar dinheiro da conta."
   ]
  },
  {
   "cell_type": "code",
   "execution_count": null,
   "metadata": {},
   "outputs": [],
   "source": []
  }
 ],
 "metadata": {
  "kernelspec": {
   "display_name": "Python 3",
   "language": "python",
   "name": "python3"
  },
  "language_info": {
   "codemirror_mode": {
    "name": "ipython",
    "version": 3
   },
   "file_extension": ".py",
   "mimetype": "text/x-python",
   "name": "python",
   "nbconvert_exporter": "python",
   "pygments_lexer": "ipython3",
   "version": "3.10.12"
  }
 },
 "nbformat": 4,
 "nbformat_minor": 2
}
