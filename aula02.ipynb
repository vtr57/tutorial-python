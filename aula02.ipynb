{
 "cells": [
  {
   "cell_type": "markdown",
   "metadata": {},
   "source": [
    "# Operações"
   ]
  },
  {
   "cell_type": "markdown",
   "metadata": {},
   "source": [
    "## Simples em int e float"
   ]
  },
  {
   "cell_type": "code",
   "execution_count": 10,
   "metadata": {},
   "outputs": [
    {
     "name": "stdout",
     "output_type": "stream",
     "text": [
      "237 + 1259 = 1496\n",
      "237 + 1259 = 1496\n"
     ]
    }
   ],
   "source": [
    "# adição\n",
    "resultado = 237 + 1259\n",
    "print('237 + 1259 =', resultado)\n",
    "\n",
    "a = 237\n",
    "b = 1259\n",
    "resultado = a + b\n",
    "print(f'{a} + {b} = {resultado}')"
   ]
  },
  {
   "cell_type": "code",
   "execution_count": 2,
   "metadata": {},
   "outputs": [
    {
     "name": "stdout",
     "output_type": "stream",
     "text": [
      "237 - 1259 = -1022\n"
     ]
    }
   ],
   "source": [
    "# subtração\n",
    "print(f'{a} - {b} = {a-b}')"
   ]
  },
  {
   "cell_type": "code",
   "execution_count": 3,
   "metadata": {},
   "outputs": [
    {
     "name": "stdout",
     "output_type": "stream",
     "text": [
      "237 * 1259 = 298383\n"
     ]
    }
   ],
   "source": [
    "# multiplicação\n",
    "print(f'{a} * {b} = {a*b}')"
   ]
  },
  {
   "cell_type": "code",
   "execution_count": 4,
   "metadata": {},
   "outputs": [
    {
     "name": "stdout",
     "output_type": "stream",
     "text": [
      "237 / 1259 = 0.18824463860206514\n"
     ]
    }
   ],
   "source": [
    "# divisão\n",
    "print(f'{a} / {b} = {a/b}')"
   ]
  },
  {
   "cell_type": "markdown",
   "metadata": {},
   "source": [
    "## Outras operações"
   ]
  },
  {
   "cell_type": "code",
   "execution_count": 5,
   "metadata": {},
   "outputs": [
    {
     "name": "stdout",
     "output_type": "stream",
     "text": [
      "237^2 = 56169\n"
     ]
    }
   ],
   "source": [
    "# potenciação\n",
    "print(f'{a}^2 = {a**2}')"
   ]
  },
  {
   "cell_type": "code",
   "execution_count": 7,
   "metadata": {},
   "outputs": [
    {
     "name": "stdout",
     "output_type": "stream",
     "text": [
      "237 % 2 = 1\n"
     ]
    }
   ],
   "source": [
    "# módulo: resto da divisão inteira\n",
    "print(f'{a} % 2 = {a%2}')\n",
    "# útil para saber se um número é par\n"
   ]
  },
  {
   "cell_type": "code",
   "execution_count": 11,
   "metadata": {},
   "outputs": [
    {
     "name": "stdout",
     "output_type": "stream",
     "text": [
      "237\n",
      "537\n"
     ]
    }
   ],
   "source": [
    "# incremento\n",
    "print(a)\n",
    "a += 300\n",
    "print(a)"
   ]
  },
  {
   "cell_type": "code",
   "execution_count": 12,
   "metadata": {},
   "outputs": [
    {
     "name": "stdout",
     "output_type": "stream",
     "text": [
      "537\n",
      "237\n"
     ]
    }
   ],
   "source": [
    "# decremento\n",
    "print(a)\n",
    "a -= 300\n",
    "print(a)"
   ]
  },
  {
   "cell_type": "markdown",
   "metadata": {},
   "source": [
    "# Exercícios"
   ]
  },
  {
   "cell_type": "markdown",
   "metadata": {},
   "source": [
    "1. Armazene na variáveli 'x' o resultado da operação: (3^2+10)\\*(25-4)/6 e imprima seu resultado.\n",
    "2. Crie uma variável i = 0 e h = 0.1, incremente na variável i o valor de h. Imprima o valor de i antes e depois.\n",
    "3. Verifique se 385 é divisível por 17.\n"
   ]
  },
  {
   "cell_type": "code",
   "execution_count": null,
   "metadata": {},
   "outputs": [],
   "source": []
  }
 ],
 "metadata": {
  "kernelspec": {
   "display_name": "Python 3",
   "language": "python",
   "name": "python3"
  },
  "language_info": {
   "codemirror_mode": {
    "name": "ipython",
    "version": 3
   },
   "file_extension": ".py",
   "mimetype": "text/x-python",
   "name": "python",
   "nbconvert_exporter": "python",
   "pygments_lexer": "ipython3",
   "version": "3.10.12"
  }
 },
 "nbformat": 4,
 "nbformat_minor": 2
}
