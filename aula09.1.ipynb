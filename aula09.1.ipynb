{
 "cells": [
  {
   "cell_type": "markdown",
   "metadata": {},
   "source": [
    "# Herança"
   ]
  },
  {
   "cell_type": "markdown",
   "metadata": {},
   "source": [
    "## Classe Pai"
   ]
  },
  {
   "cell_type": "code",
   "execution_count": 36,
   "metadata": {},
   "outputs": [],
   "source": [
    "class Animal():\n",
    "    def __init__(self, peso, idade, especie):\n",
    "        self.peso = peso\n",
    "        self.idade = idade\n",
    "        self.especie = especie\n",
    "    \n",
    "    def acordar(self):\n",
    "        print(f'{self.especie} acordando')\n",
    "\n",
    "    def dormir(self):\n",
    "        print(f'{self.especie} dormindo')\n",
    "\n",
    "    def correr(self):\n",
    "        print(f'{self.especie} correndo')\n",
    "\n",
    "    def comer(self):\n",
    "        print(f'{self.especie} comendo')"
   ]
  },
  {
   "cell_type": "markdown",
   "metadata": {},
   "source": [
    "## Classes Filhas"
   ]
  },
  {
   "cell_type": "code",
   "execution_count": 37,
   "metadata": {},
   "outputs": [],
   "source": [
    "# herdando\n",
    "class Ave(Animal):\n",
    "    def __init__(self, peso, idade, especie):\n",
    "        super().__init__(peso, idade, especie)\n",
    "\n",
    "    def voar(self):\n",
    "        print(f'{self.especie} voando')"
   ]
  },
  {
   "cell_type": "code",
   "execution_count": 38,
   "metadata": {},
   "outputs": [
    {
     "name": "stdout",
     "output_type": "stream",
     "text": [
      "Arara acordando\n",
      "Arara comendo\n",
      "Arara correndo\n",
      "Arara dormindo\n",
      "Arara voando\n"
     ]
    }
   ],
   "source": [
    "arara = Ave(4, 2, 'Arara')\n",
    "arara.acordar()\n",
    "arara.comer()\n",
    "arara.correr()\n",
    "arara.dormir()\n",
    "arara.voar()\n"
   ]
  },
  {
   "cell_type": "code",
   "execution_count": 39,
   "metadata": {},
   "outputs": [],
   "source": [
    "# herdando\n",
    "class Reptil(Animal):\n",
    "    def __init__(self, peso, idade, especie):\n",
    "        super().__init__(peso, idade, especie)\n",
    "\n",
    "    def rasteja(self):\n",
    "        print(f'{self.especie} rastejando')"
   ]
  },
  {
   "cell_type": "code",
   "execution_count": 41,
   "metadata": {},
   "outputs": [
    {
     "name": "stdout",
     "output_type": "stream",
     "text": [
      "Lagarto acordando\n",
      "Lagarto comendo\n",
      "Lagarto correndo\n",
      "Lagarto dormindo\n",
      "Lagarto rastejando\n"
     ]
    }
   ],
   "source": [
    "lagarto = Reptil(4, 2, 'Lagarto')\n",
    "lagarto.acordar()\n",
    "lagarto.comer()\n",
    "lagarto.correr()\n",
    "lagarto.dormir()\n",
    "lagarto.rasteja()"
   ]
  },
  {
   "cell_type": "markdown",
   "metadata": {},
   "source": [
    "# Exercícios"
   ]
  },
  {
   "cell_type": "markdown",
   "metadata": {},
   "source": [
    "1. Crie uma classe base chamada Veiculo com os atributos marca e modelo. Em seguida, crie duas classes derivadas, Carro e Moto, que herdam de Veiculo e adicionam um atributo específico a cada uma delas, como num_portas para carros e tipo_motor para motos.\n",
    "2. Crie uma classe ContaBancaria e inclua uma classe derivada chamada ContaCorrente que possui um atributo adicional, como limite_cheque_especial.\n",
    "3. Crie uma classe base chamada Pessoa com os atributos nome e idade. Em seguida, crie classes derivadas, Estudante e Professor, que adicionam atributos específicos, como matricula para estudantes e disciplina para professores.\n",
    "4. Crie uma classe base chamada Produto com atributos como nome e preco. Em seguida, crie classes derivadas para diferentes tipos de produtos, como Eletronico e Roupa, que adicionam atributos específicos a cada um."
   ]
  },
  {
   "cell_type": "markdown",
   "metadata": {},
   "source": []
  }
 ],
 "metadata": {
  "kernelspec": {
   "display_name": "Python 3",
   "language": "python",
   "name": "python3"
  },
  "language_info": {
   "codemirror_mode": {
    "name": "ipython",
    "version": 3
   },
   "file_extension": ".py",
   "mimetype": "text/x-python",
   "name": "python",
   "nbconvert_exporter": "python",
   "pygments_lexer": "ipython3",
   "version": "3.10.12"
  }
 },
 "nbformat": 4,
 "nbformat_minor": 2
}
