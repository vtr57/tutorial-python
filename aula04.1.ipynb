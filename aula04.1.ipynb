{
 "cells": [
  {
   "cell_type": "markdown",
   "metadata": {},
   "source": [
    "# Slice, Unpack, Copy de listas"
   ]
  },
  {
   "cell_type": "markdown",
   "metadata": {},
   "source": [
    "## Fatiando uma lista (slicing)"
   ]
  },
  {
   "cell_type": "code",
   "execution_count": 1,
   "metadata": {},
   "outputs": [
    {
     "name": "stdout",
     "output_type": "stream",
     "text": [
      "lista: ['a', 'b', 'c', 'd', 'e']\n",
      "nova_lista: ['c', 'd']\n"
     ]
    }
   ],
   "source": [
    "lista = ['a','b','c','d','e']\n",
    "#indice:  0   1   2   3   4\n",
    "\n",
    "nova_lista = lista[2:4] #pega o item do índice 2 e vai até o 4\n",
    "print(f'lista: {lista}')\n",
    "print(f'nova_lista: {nova_lista}')"
   ]
  },
  {
   "cell_type": "code",
   "execution_count": 3,
   "metadata": {},
   "outputs": [
    {
     "name": "stdout",
     "output_type": "stream",
     "text": [
      "nova_lista2: ['a', 'b', 'c', 'd']\n"
     ]
    }
   ],
   "source": [
    "# sem índice do ínicio\n",
    "nova_lista2 = lista[:4]\n",
    "print(f'nova_lista2: {nova_lista2}')"
   ]
  },
  {
   "cell_type": "code",
   "execution_count": 6,
   "metadata": {},
   "outputs": [
    {
     "name": "stdout",
     "output_type": "stream",
     "text": [
      "nova_lista3: ['c', 'd', 'e']\n"
     ]
    }
   ],
   "source": [
    "# sem índice do fim\n",
    "nova_lista3 = lista[2:5]\n",
    "print(f'nova_lista3: {nova_lista3}')"
   ]
  },
  {
   "cell_type": "markdown",
   "metadata": {},
   "source": [
    "## Desempacotando uma lista"
   ]
  },
  {
   "cell_type": "code",
   "execution_count": 7,
   "metadata": {},
   "outputs": [
    {
     "name": "stdout",
     "output_type": "stream",
     "text": [
      "obrigatorio1: a, obrigatorio2: b, outros: ['c', 'd', 'e']\n"
     ]
    }
   ],
   "source": [
    "obrigatorio1, obrigatorio2, *outros = lista\n",
    "print(f'obrigatorio1: {obrigatorio1}, obrigatorio2: {obrigatorio2}, outros: {outros}')"
   ]
  },
  {
   "cell_type": "code",
   "execution_count": 9,
   "metadata": {},
   "outputs": [
    {
     "name": "stdout",
     "output_type": "stream",
     "text": [
      "obrigatorio1: a,  outros: ['b', 'c', 'd'], obrigatorio2: e\n"
     ]
    }
   ],
   "source": [
    "obrigatorio1, *outros, obrigatorio2  = lista\n",
    "print(f'obrigatorio1: {obrigatorio1},  outros: {outros}, obrigatorio2: {obrigatorio2}')"
   ]
  },
  {
   "cell_type": "markdown",
   "metadata": {},
   "source": [
    "## Copiando uma lista (copy)"
   ]
  },
  {
   "cell_type": "code",
   "execution_count": 19,
   "metadata": {},
   "outputs": [
    {
     "name": "stdout",
     "output_type": "stream",
     "text": [
      "lista: ['a', 'b', 'c', 'd', 'e']\n",
      "copia_lista: ['a', 'b', 'c', 'd', 'e']\n"
     ]
    }
   ],
   "source": [
    "# do jeito certo\n",
    "lista = ['a','b','c','d','e']\n",
    "copia_lista = lista[:]\n",
    "print(f'lista: {lista}')\n",
    "print(f'copia_lista: {copia_lista}')\n"
   ]
  },
  {
   "cell_type": "code",
   "execution_count": 20,
   "metadata": {},
   "outputs": [
    {
     "name": "stdout",
     "output_type": "stream",
     "text": [
      "copia_lista alterada: ['A', 'b', 'c', 'd', 'e']\n",
      "lista: ['a', 'b', 'c', 'd', 'e']\n"
     ]
    }
   ],
   "source": [
    "# alterando a copia\n",
    "copia_lista[0] = 'A'\n",
    "print(f'copia_lista alterada: {copia_lista}')\n",
    "print(f'lista: {lista}')\n"
   ]
  },
  {
   "cell_type": "code",
   "execution_count": 21,
   "metadata": {},
   "outputs": [
    {
     "name": "stdout",
     "output_type": "stream",
     "text": [
      "lista: ['a', 'b', 'c', 'd', 'e']\n",
      "copia_lista2: ['a', 'b', 'c', 'd', 'e']\n",
      "\n",
      "copia_lista2 alterada: ['A', 'b', 'c', 'd', 'e']\n",
      "lista: ['A', 'b', 'c', 'd', 'e'] <---- também foi alterada\n"
     ]
    }
   ],
   "source": [
    "# do jeito errado\n",
    "copia_lista2 = lista\n",
    "print(f'lista: {lista}')\n",
    "print(f'copia_lista2: {copia_lista2}')\n",
    "copia_lista2[0] = 'A'\n",
    "print(f'\\ncopia_lista2 alterada: {copia_lista2}')\n",
    "print(f'lista: {lista} <---- também foi alterada')"
   ]
  },
  {
   "cell_type": "markdown",
   "metadata": {},
   "source": [
    "# Exercícios"
   ]
  },
  {
   "cell_type": "markdown",
   "metadata": {},
   "source": [
    "1. Crie uma lista com 10 itens quaisquer. Faça um slicing que:\n",
    "    1. Fatie os 5 primeiros itens.\n",
    "    2. Fatie do 2 até o 5 item.\n",
    "    3. Fatie do 3° item em diante.\n",
    "2. Crie uma lista com 10 itens quaisquer. Faça os seguintes unpacks:\n",
    "    1. Com 3 variáveis sendo a última desempacotada.\n",
    "    2. Com 3 variáveis sendo a primeira desempacotada.\n",
    "    3. Com 3 variáveis sendo a primeira desempacotada.\n",
    "3. Crie uma lista com 10 itens quaisquer. Crie uma outra lista que é cópia da primeira lista. Altera os valores do primeiro, segundo e terceiro itens para outros quaisquer."
   ]
  },
  {
   "cell_type": "code",
   "execution_count": null,
   "metadata": {},
   "outputs": [],
   "source": []
  }
 ],
 "metadata": {
  "kernelspec": {
   "display_name": "Python 3",
   "language": "python",
   "name": "python3"
  },
  "language_info": {
   "codemirror_mode": {
    "name": "ipython",
    "version": 3
   },
   "file_extension": ".py",
   "mimetype": "text/x-python",
   "name": "python",
   "nbconvert_exporter": "python",
   "pygments_lexer": "ipython3",
   "version": "3.10.12"
  }
 },
 "nbformat": 4,
 "nbformat_minor": 2
}
