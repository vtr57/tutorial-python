{
 "cells": [
  {
   "cell_type": "markdown",
   "metadata": {},
   "source": [
    "# List Comprehension"
   ]
  },
  {
   "cell_type": "code",
   "execution_count": 15,
   "metadata": {},
   "outputs": [
    {
     "data": {
      "text/plain": [
       "['laranja', 'maçã']"
      ]
     },
     "execution_count": 15,
     "metadata": {},
     "output_type": "execute_result"
    }
   ],
   "source": [
    "# adicionando termos em uma lista sem list comprehension\n",
    "frutas = ['laranja', 'maçã', 'coco']\n",
    "frutas_com_a = []\n",
    "for f in frutas:\n",
    "    if 'a' in f:\n",
    "        frutas_com_a.append(f)\n",
    "frutas_com_a"
   ]
  },
  {
   "cell_type": "code",
   "execution_count": 19,
   "metadata": {},
   "outputs": [
    {
     "data": {
      "text/plain": [
       "['laranja', 'maçã']"
      ]
     },
     "execution_count": 19,
     "metadata": {},
     "output_type": "execute_result"
    }
   ],
   "source": [
    "# adicionando termos em uma lista COM list comprehension\n",
    "frutas = ['laranja', 'maçã', 'coco']\n",
    "frutas_com_a_comprehension = [f for f in frutas if 'a' in f ]\n",
    "frutas_com_a_comprehension"
   ]
  },
  {
   "cell_type": "code",
   "execution_count": 22,
   "metadata": {},
   "outputs": [
    {
     "data": {
      "text/plain": [
       "[0, 1, 4, 9, 16, 25, 36, 49, 64, 81]"
      ]
     },
     "execution_count": 22,
     "metadata": {},
     "output_type": "execute_result"
    }
   ],
   "source": [
    "quadrado = [x**2 for x in range(10)]\n",
    "quadrado"
   ]
  },
  {
   "cell_type": "markdown",
   "metadata": {},
   "source": [
    "# Exercícios"
   ]
  },
  {
   "cell_type": "markdown",
   "metadata": {},
   "source": [
    "1. Crie uma lista com os números de 1 a 10 usando list comprehension.\n",
    "\n",
    "2. Dada uma lista de números, crie uma nova lista que contenha o dobro de cada número usando list comprehension.\n",
    "\n",
    "3. Dada uma lista de palavras, crie uma nova lista que contenha apenas as palavras com mais de 5 letras usando list comprehension.\n",
    "\n",
    "4. Dada uma lista de números, crie uma nova lista que contenha apenas os números pares usando list comprehension.\n",
    "\n",
    "5. Dada uma lista de nomes, crie uma nova lista que contenha apenas os nomes que começam com a letra \"A\" usando list comprehension."
   ]
  },
  {
   "cell_type": "code",
   "execution_count": null,
   "metadata": {},
   "outputs": [],
   "source": []
  }
 ],
 "metadata": {
  "kernelspec": {
   "display_name": "Python 3",
   "language": "python",
   "name": "python3"
  },
  "language_info": {
   "codemirror_mode": {
    "name": "ipython",
    "version": 3
   },
   "file_extension": ".py",
   "mimetype": "text/x-python",
   "name": "python",
   "nbconvert_exporter": "python",
   "pygments_lexer": "ipython3",
   "version": "3.10.12"
  }
 },
 "nbformat": 4,
 "nbformat_minor": 2
}
