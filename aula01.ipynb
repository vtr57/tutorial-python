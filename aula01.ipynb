{
 "cells": [
  {
   "cell_type": "markdown",
   "metadata": {},
   "source": [
    "# Variáveis"
   ]
  },
  {
   "cell_type": "markdown",
   "metadata": {},
   "source": [
    "* int\n",
    "* float\n",
    "* string"
   ]
  },
  {
   "cell_type": "markdown",
   "metadata": {},
   "source": [
    "#### int: ..., -2, -1, 0, 1, 2,..."
   ]
  },
  {
   "cell_type": "markdown",
   "metadata": {},
   "source": [
    "#### float: 3.14, 1., 2e5"
   ]
  },
  {
   "cell_type": "markdown",
   "metadata": {},
   "source": [
    "#### str: 'textos', 'nomes', 'CPF: 999 999 999'"
   ]
  },
  {
   "cell_type": "markdown",
   "metadata": {},
   "source": [
    "### int"
   ]
  },
  {
   "cell_type": "code",
   "execution_count": 1,
   "metadata": {},
   "outputs": [],
   "source": [
    "# criando variáveis int\n",
    "num1 = -5\n",
    "num2 = 0\n",
    "num3 = 125"
   ]
  },
  {
   "cell_type": "code",
   "execution_count": 4,
   "metadata": {},
   "outputs": [
    {
     "name": "stdout",
     "output_type": "stream",
     "text": [
      "Minhas variaveis int são:  -5 0 125\n"
     ]
    }
   ],
   "source": [
    "# mostrando na tela\n",
    "print('Minhas variaveis int são: ', num1, num2, num3)"
   ]
  },
  {
   "cell_type": "code",
   "execution_count": 6,
   "metadata": {},
   "outputs": [
    {
     "name": "stdout",
     "output_type": "stream",
     "text": [
      "Minhas variaveis int são: -5, 0, 125\n"
     ]
    }
   ],
   "source": [
    "# usando f-strings\n",
    "print(f'Minhas variaveis int são: {num1}, {num2}, {num3}')"
   ]
  },
  {
   "cell_type": "markdown",
   "metadata": {},
   "source": [
    "### float"
   ]
  },
  {
   "cell_type": "code",
   "execution_count": 8,
   "metadata": {},
   "outputs": [],
   "source": [
    "# criando variáveis float\n",
    "num4 = 3.14\n",
    "num5 = 5.\n",
    "num6 = 1e-4 #0.0001"
   ]
  },
  {
   "cell_type": "code",
   "execution_count": 10,
   "metadata": {},
   "outputs": [
    {
     "name": "stdout",
     "output_type": "stream",
     "text": [
      "As variaveis do tipo float sao:  3.14 5.0 0.0001\n",
      "As variaveis do tipo float sao: 3.14, 5.0, 0.0001\n"
     ]
    }
   ],
   "source": [
    "# mostrando na tela\n",
    "print('As variaveis do tipo float sao: ', num4, num5, num6)\n",
    "\n",
    "# com f-strings\n",
    "print(f'As variaveis do tipo float sao: {num4}, {num5}, {num6}')"
   ]
  },
  {
   "cell_type": "markdown",
   "metadata": {},
   "source": [
    "### str"
   ]
  },
  {
   "cell_type": "code",
   "execution_count": 11,
   "metadata": {},
   "outputs": [],
   "source": [
    "# criando variáveis str\n",
    "cargo = 'Professor'\n",
    "nome = 'Vitor'\n",
    "cpf = '77788899900'"
   ]
  },
  {
   "cell_type": "code",
   "execution_count": 12,
   "metadata": {},
   "outputs": [
    {
     "name": "stdout",
     "output_type": "stream",
     "text": [
      "As variaveis do tipo str sao:  3.14 5.0 0.0001\n",
      "Cargo: Professor, nome: Vitor, cpf: 77788899900\n"
     ]
    }
   ],
   "source": [
    "# mostrando na tela\n",
    "print('As variaveis do tipo str sao: ', num4, num5, num6)\n",
    "\n",
    "# com f-strings\n",
    "print(f'Cargo: {cargo}, nome: {nome}, cpf: {cpf}')"
   ]
  },
  {
   "cell_type": "markdown",
   "metadata": {},
   "source": [
    "# Exercícios"
   ]
  },
  {
   "cell_type": "markdown",
   "metadata": {},
   "source": [
    "1. Crie uma variável chamada \"idade\" e atribua a ela a sua idade. Em seguida, imprima a idade.\n",
    "2. Crie duas variáveis, \"num1\" e \"num2\", e atribua a elas dois números inteiros de sua escolha. Imprima seus valores.\n",
    "3. Crie uma variável chamada \"preco\" e atribua a ela o valor 9.99. Em seguida, imprima o preço.\n",
    "4. Crie uma variável chamada 'temperatura', atribua o valor de 25.0 e imprima a seguinte mensagem usando f-strings \"A temperatura de hoje é 25 graus celsius\"."
   ]
  },
  {
   "cell_type": "code",
   "execution_count": null,
   "metadata": {},
   "outputs": [],
   "source": []
  }
 ],
 "metadata": {
  "kernelspec": {
   "display_name": "Python 3",
   "language": "python",
   "name": "python3"
  },
  "language_info": {
   "codemirror_mode": {
    "name": "ipython",
    "version": 3
   },
   "file_extension": ".py",
   "mimetype": "text/x-python",
   "name": "python",
   "nbconvert_exporter": "python",
   "pygments_lexer": "ipython3",
   "version": "3.10.12"
  }
 },
 "nbformat": 4,
 "nbformat_minor": 2
}
