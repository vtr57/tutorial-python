{
 "cells": [
  {
   "cell_type": "markdown",
   "metadata": {},
   "source": [
    "# Funções"
   ]
  },
  {
   "cell_type": "markdown",
   "metadata": {},
   "source": [
    "É uma maneira organizada de se executar blocos de códigos semelhantes"
   ]
  },
  {
   "cell_type": "markdown",
   "metadata": {},
   "source": [
    "## Criando uma função"
   ]
  },
  {
   "cell_type": "code",
   "execution_count": 2,
   "metadata": {},
   "outputs": [],
   "source": [
    "def foo(): # palavra reservada def\n",
    "    print('Fazendo qualquer coisa...') # bloco de código\n",
    "    print('Fazendo qualquer coisa...')\n",
    "    print('Fazendo qualquer coisa...') \n",
    "    return 'retornando uma string qualqer' # retorno da função pra onde ela foi chamada"
   ]
  },
  {
   "cell_type": "code",
   "execution_count": 3,
   "metadata": {},
   "outputs": [
    {
     "name": "stdout",
     "output_type": "stream",
     "text": [
      "Fazendo qualquer coisa...\n",
      "Fazendo qualquer coisa...\n",
      "Fazendo qualquer coisa...\n"
     ]
    },
    {
     "data": {
      "text/plain": [
       "'retornando uma string qualqer'"
      ]
     },
     "execution_count": 3,
     "metadata": {},
     "output_type": "execute_result"
    }
   ],
   "source": [
    "# chamando uma função\n",
    "foo()"
   ]
  },
  {
   "cell_type": "code",
   "execution_count": 4,
   "metadata": {},
   "outputs": [
    {
     "name": "stdout",
     "output_type": "stream",
     "text": [
      "Fazendo qualquer coisa...\n",
      "Fazendo qualquer coisa...\n",
      "Fazendo qualquer coisa...\n"
     ]
    },
    {
     "data": {
      "text/plain": [
       "'retornando uma string qualqer'"
      ]
     },
     "execution_count": 4,
     "metadata": {},
     "output_type": "execute_result"
    }
   ],
   "source": [
    "# armazenando a função em uma variável\n",
    "x = foo\n",
    "x()"
   ]
  },
  {
   "cell_type": "markdown",
   "metadata": {},
   "source": [
    "## Diferentes tipos"
   ]
  },
  {
   "cell_type": "code",
   "execution_count": 5,
   "metadata": {},
   "outputs": [
    {
     "name": "stdout",
     "output_type": "stream",
     "text": [
      "Olá, você está aprendendo Python no mais humilde dos tutoriais ;)\n"
     ]
    }
   ],
   "source": [
    "# sem argumentos e sem retorno\n",
    "def boas_vindas():\n",
    "  print(\"Olá, você está aprendendo Python no mais humilde dos tutoriais ;)\")\n",
    "\n",
    "boas_vindas()"
   ]
  },
  {
   "cell_type": "code",
   "execution_count": 6,
   "metadata": {},
   "outputs": [
    {
     "name": "stdout",
     "output_type": "stream",
     "text": [
      "2^2 = 4\n",
      "3^2 = 9\n",
      "4^2 = 16\n"
     ]
    }
   ],
   "source": [
    "# com argumentos e sem retorno\n",
    "def imprime_quadrado(x):\n",
    "  print(f'{x}^2 = {x**2}')\n",
    "\n",
    "imprime_quadrado(2)\n",
    "imprime_quadrado(3)\n",
    "imprime_quadrado(4)"
   ]
  },
  {
   "cell_type": "code",
   "execution_count": 7,
   "metadata": {},
   "outputs": [],
   "source": [
    "# sem argumentos mas com retorno\n",
    "def tecla_digitada_no_menu():\n",
    "  x = int(input('Digite:\\n1 - para adicionar item\\n2 - para remover item\\n3 - para sair do menu\\n'))\n",
    "  return x\n",
    "\n",
    "t_m = tecla_digitada_no_menu()"
   ]
  },
  {
   "cell_type": "code",
   "execution_count": 8,
   "metadata": {},
   "outputs": [
    {
     "data": {
      "text/plain": [
       "11"
      ]
     },
     "execution_count": 8,
     "metadata": {},
     "output_type": "execute_result"
    }
   ],
   "source": [
    "# com argumento e com retorno\n",
    "def funcao_linear(x, a, b):\n",
    "  return a*x + b\n",
    "\n",
    "funcao_linear(2, 3, 5) # 3*2 + 5 = 6 + 5 = 11"
   ]
  },
  {
   "cell_type": "markdown",
   "metadata": {},
   "source": [
    "# Exercícios"
   ]
  },
  {
   "cell_type": "markdown",
   "metadata": {},
   "source": [
    "1. Indique qual o tipo de função das seguintes funções built-in do python:\n",
    "    + print\n",
    "    + input\n",
    "    + range\n",
    "    + int\n",
    "    + float\n",
    "    + str\n",
    "    + len\n",
    "    + type\n",
    "2. O que as funções acima fazem?\n",
    "3. O que as seguintes funções built-in do python fazem: map, filter, sum e zip?\n",
    "4. Crie funções que personalizam as operações básicas de uma calculadora (adição, subtração, divisão e multiplicação). Ao chamar a função o usuário digita os 2 números para serem operacionados.\n",
    "5. Crie um menu que pergunte ao usuário qual operação ele deseja fazer (a - adição, s - subtração, d - divisão, m - multiplicação). Após o usuário inserir o número, chame a função desejada."
   ]
  },
  {
   "cell_type": "markdown",
   "metadata": {},
   "source": []
  }
 ],
 "metadata": {
  "kernelspec": {
   "display_name": "Python 3",
   "language": "python",
   "name": "python3"
  },
  "language_info": {
   "codemirror_mode": {
    "name": "ipython",
    "version": 3
   },
   "file_extension": ".py",
   "mimetype": "text/x-python",
   "name": "python",
   "nbconvert_exporter": "python",
   "pygments_lexer": "ipython3",
   "version": "3.10.12"
  }
 },
 "nbformat": 4,
 "nbformat_minor": 2
}
