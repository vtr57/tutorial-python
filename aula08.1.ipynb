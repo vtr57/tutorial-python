{
 "cells": [
  {
   "cell_type": "markdown",
   "metadata": {},
   "source": [
    "# Escopo de Variáveis"
   ]
  },
  {
   "cell_type": "markdown",
   "metadata": {},
   "source": [
    "Compreendendo melhor sobre as alterações de variáveis."
   ]
  },
  {
   "cell_type": "markdown",
   "metadata": {},
   "source": [
    "## Local"
   ]
  },
  {
   "cell_type": "markdown",
   "metadata": {},
   "source": [
    "Quando uma variável pode ser alterada somente em um bloco restrio a uma função."
   ]
  },
  {
   "cell_type": "code",
   "execution_count": 1,
   "metadata": {},
   "outputs": [
    {
     "name": "stdout",
     "output_type": "stream",
     "text": [
      "Dentro da função x é um int 10\n",
      "Fora da função x é uma string\n"
     ]
    }
   ],
   "source": [
    "x = 'Fora da função x é uma string' # aqui x é chamada de variável\n",
    "def f(x = 5): # aqui x é chamada de parametro\n",
    "  print('Dentro da função x é um int', x)\n",
    "f(x = 10) # aqui x é chamada de argumento, o argumento se prevalece em relação ao parametro\n",
    "print(x) # são variáveis independentes uma da outra"
   ]
  },
  {
   "cell_type": "markdown",
   "metadata": {},
   "source": [
    "## Global"
   ]
  },
  {
   "cell_type": "code",
   "execution_count": 2,
   "metadata": {},
   "outputs": [
    {
     "data": {
      "text/plain": [
       "'z existe somente dentro da função: 20 e y pode ser acessada de dentro da função: 10'"
      ]
     },
     "execution_count": 2,
     "metadata": {},
     "output_type": "execute_result"
    }
   ],
   "source": [
    "y = 10\n",
    "def g():\n",
    "  z = 20\n",
    "  return f'z existe somente dentro da função: {z} e y pode ser acessada de dentro da função: {y}'\n",
    "g()"
   ]
  },
  {
   "cell_type": "code",
   "execution_count": null,
   "metadata": {},
   "outputs": [],
   "source": [
    "print(z) #z não existe fora da função"
   ]
  },
  {
   "cell_type": "markdown",
   "metadata": {},
   "source": [
    "# Exercícios"
   ]
  },
  {
   "cell_type": "markdown",
   "metadata": {},
   "source": [
    "1. Determine se as variáveis do código abaixo são argumentos, parametros, variáveis locais e globais.\n",
    "```\n",
    "x = 10\n",
    "def h(x = 20):\n",
    "    x = 40\n",
    "    return x\n",
    "h(30)\n",
    "```\n",
    "2. No código acima o que será retornado pela comando h(40) e por quê?\n",
    "3. Qual o retorno do código abaixo?\n",
    "```\n",
    "x = 10\n",
    "def h(x = 20):\n",
    "    return x\n",
    "h(30)\n",
    "```\n",
    "4. Qual o retorno do código abaixo?\n",
    "```\n",
    "x = 10\n",
    "def h(x = 20):\n",
    "    return x\n",
    "h()\n",
    "```\n",
    "5. E do código abaixo?\n",
    "```\n",
    "x = 10\n",
    "def h():\n",
    "    return x\n",
    "h()\n",
    "```"
   ]
  }
 ],
 "metadata": {
  "kernelspec": {
   "display_name": "Python 3",
   "language": "python",
   "name": "python3"
  },
  "language_info": {
   "codemirror_mode": {
    "name": "ipython",
    "version": 3
   },
   "file_extension": ".py",
   "mimetype": "text/x-python",
   "name": "python",
   "nbconvert_exporter": "python",
   "pygments_lexer": "ipython3",
   "version": "3.10.12"
  }
 },
 "nbformat": 4,
 "nbformat_minor": 2
}
