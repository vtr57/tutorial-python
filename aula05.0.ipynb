{
 "cells": [
  {
   "cell_type": "markdown",
   "metadata": {},
   "source": [
    "# If, else e elif"
   ]
  },
  {
   "cell_type": "markdown",
   "metadata": {},
   "source": [
    "If e Else são utilizados para controle do caminho do algoritmo."
   ]
  },
  {
   "cell_type": "code",
   "execution_count": 1,
   "metadata": {},
   "outputs": [
    {
     "name": "stdout",
     "output_type": "stream",
     "text": [
      "print do if\n"
     ]
    }
   ],
   "source": [
    "if True:\n",
    "    print('print do if')\n",
    "else:\n",
    "    print('print do else')"
   ]
  },
  {
   "cell_type": "code",
   "execution_count": 2,
   "metadata": {},
   "outputs": [
    {
     "name": "stdout",
     "output_type": "stream",
     "text": [
      "print do else\n"
     ]
    }
   ],
   "source": [
    "if False:\n",
    "    print('print do if')\n",
    "else:\n",
    "    print('print do else')"
   ]
  },
  {
   "cell_type": "code",
   "execution_count": 3,
   "metadata": {},
   "outputs": [
    {
     "name": "stdout",
     "output_type": "stream",
     "text": [
      "print do elif\n"
     ]
    }
   ],
   "source": [
    "if False:\n",
    "    print('print do if')\n",
    "elif True:\n",
    "    print('print do elif')\n",
    "else:\n",
    "    print('print do else')"
   ]
  },
  {
   "cell_type": "code",
   "execution_count": 4,
   "metadata": {},
   "outputs": [
    {
     "name": "stdout",
     "output_type": "stream",
     "text": [
      "print do else\n"
     ]
    }
   ],
   "source": [
    "if False:\n",
    "    print('print do if')\n",
    "elif False:\n",
    "    print('print do elif')\n",
    "else:\n",
    "    print('print do else')"
   ]
  },
  {
   "cell_type": "code",
   "execution_count": 5,
   "metadata": {},
   "outputs": [
    {
     "name": "stdout",
     "output_type": "stream",
     "text": [
      "print do 2° elif\n"
     ]
    }
   ],
   "source": [
    "if False:\n",
    "    print('print do if')\n",
    "elif False:\n",
    "    print('print do 1° elif')\n",
    "elif True:\n",
    "    print('print do 2° elif')\n",
    "else:\n",
    "    print('print do else')"
   ]
  },
  {
   "cell_type": "code",
   "execution_count": 9,
   "metadata": {},
   "outputs": [
    {
     "name": "stdout",
     "output_type": "stream",
     "text": [
      "print do 1° if\n",
      "print do 2° if\n",
      "print do 3° if\n"
     ]
    }
   ],
   "source": [
    "# importancia do elif\n",
    "if True:\n",
    "    print('print do 1° if')\n",
    "if True:\n",
    "    print('print do 2° if')\n",
    "if True:\n",
    "    print('print do 3° if')\n",
    "else:\n",
    "    print('print do else')"
   ]
  },
  {
   "cell_type": "markdown",
   "metadata": {},
   "source": [
    "## Exemplo"
   ]
  },
  {
   "cell_type": "code",
   "execution_count": 11,
   "metadata": {},
   "outputs": [
    {
     "name": "stdout",
     "output_type": "stream",
     "text": [
      "Os números são iguais.\n"
     ]
    }
   ],
   "source": [
    "x = int(input('Digite primeiramente número inteiro: '))\n",
    "y = int(input('Digite um número inteiro: '))\n",
    "if x > y:\n",
    "    print('Primeiro número é maior.')\n",
    "elif y > x:\n",
    "    print('Segundo número é maior.')\n",
    "else:\n",
    "    print('Os números são iguais.')"
   ]
  },
  {
   "cell_type": "markdown",
   "metadata": {},
   "source": [
    "# Exercícios"
   ]
  },
  {
   "cell_type": "markdown",
   "metadata": {},
   "source": [
    "1. Escreva um programa que peça um valor e mostre na tela se o valor é positivo ou negativo.\n",
    "2. Escreva um programa que verifique (usando if e else) se uma letra digitada é “F” ou “M”. Conforme a letra escrever: F – Feminino, M- Masculino, Sexo inválido.\n",
    "3. Escreva um programa que verifique (usando if e else) se uma letra digitada é vogal ou consoante.\n",
    "4. Escreva um programa para a leitura de duas notas parciais de um aluno. A mensagem “Aprovado”, se a média alcançada for maior ou igual a sete; A mensagem “Aprovado com Distinção”, se a média for igual a dez; A mensagem “Reprovado” se a média for menor de do que sete.\n",
    "5. Faça um programa que leia três números, verifique (usando if e else), e mostre o maior deles.\n",
    "6. Faça um programa que leia três números, verifique (usando if e else) e mostre o maior e o menor deles.\n",
    "7. Faça um programa que leia três números e mostre-os em ordem decrescente.\n",
    "8. Faça um programa que pergunte em que turno você estuda. Peça para digitar M-matutino ou V-vespertino ou N-noturno. Imprima a mensagem “Bom dia!” ou “Boa Noite” ou “Valor inválido”, conforme o caso."
   ]
  },
  {
   "cell_type": "code",
   "execution_count": null,
   "metadata": {},
   "outputs": [],
   "source": []
  }
 ],
 "metadata": {
  "kernelspec": {
   "display_name": "Python 3",
   "language": "python",
   "name": "python3"
  },
  "language_info": {
   "codemirror_mode": {
    "name": "ipython",
    "version": 3
   },
   "file_extension": ".py",
   "mimetype": "text/x-python",
   "name": "python",
   "nbconvert_exporter": "python",
   "pygments_lexer": "ipython3",
   "version": "3.10.12"
  }
 },
 "nbformat": 4,
 "nbformat_minor": 2
}
