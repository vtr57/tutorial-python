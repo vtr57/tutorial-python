{
 "cells": [
  {
   "cell_type": "markdown",
   "metadata": {},
   "source": [
    "# Loopings"
   ]
  },
  {
   "cell_type": "markdown",
   "metadata": {},
   "source": [
    "Realiza ações repetitivas."
   ]
  },
  {
   "cell_type": "markdown",
   "metadata": {},
   "source": [
    "## While"
   ]
  },
  {
   "cell_type": "code",
   "execution_count": 2,
   "metadata": {},
   "outputs": [
    {
     "name": "stdout",
     "output_type": "stream",
     "text": [
      "0, 1, 2, 3, 4, 5, 6, 7, 8, 9, "
     ]
    }
   ],
   "source": [
    "t = 0\n",
    "while t < 10: #executa até t == 9\n",
    "    print(t, end=', ')\n",
    "    t += 1"
   ]
  },
  {
   "cell_type": "markdown",
   "metadata": {},
   "source": [
    "## For"
   ]
  },
  {
   "cell_type": "code",
   "execution_count": 2,
   "metadata": {},
   "outputs": [
    {
     "name": "stdout",
     "output_type": "stream",
     "text": [
      "0, 1, 2, 3, 4, 5, 6, 7, 8, 9, "
     ]
    }
   ],
   "source": [
    "lista = [0, 1, 2, 3, 4, 5, 6, 7, 8, 9]\n",
    "for t in lista: # tipo lista\n",
    "    \"\"\" a lista cria todos os elementos antes de serem executados\"\"\"\n",
    "    print(t, end=', ')"
   ]
  },
  {
   "cell_type": "code",
   "execution_count": 3,
   "metadata": {},
   "outputs": [
    {
     "name": "stdout",
     "output_type": "stream",
     "text": [
      "0, 1, 2, 3, 4, 5, 6, 7, 8, 9, "
     ]
    }
   ],
   "source": [
    "for i in range(10): # tipo iterador\n",
    "    \"\"\" o iteraodr cria o próximo elemento quando solicitado\"\"\"\n",
    "    print(i, end=', ')"
   ]
  },
  {
   "cell_type": "code",
   "execution_count": 7,
   "metadata": {},
   "outputs": [
    {
     "name": "stdout",
     "output_type": "stream",
     "text": [
      "5, 6, 7, 8, 9, "
     ]
    }
   ],
   "source": [
    "for i in range(5, 10):\n",
    "    \"\"\" o primeiro argumento é o início (5)\n",
    "        o segundo argumento é o fim (10)\"\"\"\n",
    "    print(i, end=', ')"
   ]
  },
  {
   "cell_type": "code",
   "execution_count": 6,
   "metadata": {},
   "outputs": [
    {
     "name": "stdout",
     "output_type": "stream",
     "text": [
      "-4, -2, 0, 2, 4, "
     ]
    }
   ],
   "source": [
    "for i in range(-4, 5, 2):\n",
    "    \"\"\" o último argumento (2) são os pulos de um para o outro\"\"\"\n",
    "    print(i, end=', ')"
   ]
  },
  {
   "cell_type": "code",
   "execution_count": 7,
   "metadata": {},
   "outputs": [
    {
     "name": "stdout",
     "output_type": "stream",
     "text": [
      "Item da lista: 30.2\n",
      "Item da lista: 55\n",
      "Item da lista: 20\n"
     ]
    }
   ],
   "source": [
    "dia = [30.2, 55, 20]\n",
    "for d in dia:\n",
    "    print(f'Item da lista: {d}')"
   ]
  },
  {
   "cell_type": "code",
   "execution_count": 9,
   "metadata": {},
   "outputs": [
    {
     "name": "stdout",
     "output_type": "stream",
     "text": [
      "Item da lista: 30.2\n",
      "Item da lista: 55\n"
     ]
    }
   ],
   "source": [
    "dia = [30.2, 55, 20]\n",
    "for d in dia:\n",
    "    if d > 30:\n",
    "        print(f'Item da lista: {d}')"
   ]
  },
  {
   "cell_type": "markdown",
   "metadata": {},
   "source": [
    "# Exercícios"
   ]
  },
  {
   "cell_type": "markdown",
   "metadata": {},
   "source": [
    "1. Escreva um programa que imprima todos os números pares de 1 a 10 usando um loop for e uma instrução condicional if.\n",
    "2. Escreva um programa que imprima todos os números ímpares de 1 a 10 usando um loop for e uma instrução condicional if.\n",
    "3. Escreva um programa que imprima os números de 1 a 10, pulando o número 5 usando um loop for e uma instrução condicional if.\n",
    "4. Escreva um programa que imprima os números de 1 a 20, mas substitua os múltiplos de 3 por \"Fizz\" e os múltiplos de 5 por \"Buzz\" usando um loop for e uma instrução condicional if.\n",
    "5. Escreva um programa que calcule a soma de todos os números pares de 1 a 10 usando um loop for e uma instrução condicional if.\n",
    "6. Escreva um programa que solicite ao usuário uma senha e, em seguida, verifique se a senha inserida é igual a \"senha123\". Se for, imprima \"Acesso concedido\"; caso contrário, imprima \"Acesso negado\" usando uma instrução condicional if. O usuário pode errar 2 vezes. Na terceira ele sai do programa."
   ]
  },
  {
   "cell_type": "code",
   "execution_count": 13,
   "metadata": {},
   "outputs": [
    {
     "name": "stdout",
     "output_type": "stream",
     "text": [
      "2\t4\t6\t8\t10\t"
     ]
    }
   ],
   "source": [
    "#1\n",
    "for num in range(1,11):\n",
    "    if num % 2 == 0:\n",
    "        print(num, end='\\t')"
   ]
  },
  {
   "cell_type": "code",
   "execution_count": 23,
   "metadata": {},
   "outputs": [
    {
     "name": "stdout",
     "output_type": "stream",
     "text": [
      "1\t3\t5\t7\t9\t"
     ]
    }
   ],
   "source": [
    "#2\n",
    "for num in range(1,11):\n",
    "    if num % 2 == 1:\n",
    "        print(num, end='\\t')"
   ]
  },
  {
   "cell_type": "code",
   "execution_count": 29,
   "metadata": {},
   "outputs": [
    {
     "name": "stdout",
     "output_type": "stream",
     "text": [
      "1\t2\t3\t4\t6\t7\t8\t9\t10\t\n",
      "1\t2\t3\t4\t6\t7\t8\t9\t10\t"
     ]
    }
   ],
   "source": [
    "#3.1\n",
    "for num in range(1,11):\n",
    "    if num != 5:\n",
    "        print(num, end='\\t')\n",
    "    else:\n",
    "        continue\n",
    "print('')\n",
    "#3.2\n",
    "for num in range(1,11):\n",
    "    if num == 5:\n",
    "        continue\n",
    "    else:\n",
    "        print(num, end='\\t')"
   ]
  },
  {
   "cell_type": "code",
   "execution_count": 42,
   "metadata": {},
   "outputs": [
    {
     "name": "stdout",
     "output_type": "stream",
     "text": [
      "1 2 Fizz 4 Buzz Fizz 7 8 Fizz Buzz 11 Fizz 13 14 Fizz/Buzz 16 17 Fizz 19 Buzz "
     ]
    }
   ],
   "source": [
    "#4\n",
    "for num in range(1,21):\n",
    "    if num % 3 == 0 and num %5 == 0:\n",
    "        print('Fizz/Buzz', end=' ')\n",
    "    elif num % 3 == 0:\n",
    "        print('Fizz', end=' ')\n",
    "    elif num % 5 == 0:\n",
    "        print('Buzz', end=' ')\n",
    "    else:\n",
    "        print(num, end=' ')"
   ]
  },
  {
   "cell_type": "code",
   "execution_count": 37,
   "metadata": {},
   "outputs": [
    {
     "data": {
      "text/plain": [
       "0"
      ]
     },
     "execution_count": 37,
     "metadata": {},
     "output_type": "execute_result"
    }
   ],
   "source": [
    "15%3"
   ]
  },
  {
   "cell_type": "code",
   "execution_count": 38,
   "metadata": {},
   "outputs": [
    {
     "data": {
      "text/plain": [
       "0"
      ]
     },
     "execution_count": 38,
     "metadata": {},
     "output_type": "execute_result"
    }
   ],
   "source": [
    "15%5"
   ]
  },
  {
   "cell_type": "code",
   "execution_count": null,
   "metadata": {},
   "outputs": [],
   "source": [
    "if\n",
    "    if\n",
    "    else\n",
    "        if\n",
    "        elif\n",
    "        else\n",
    "elif\n",
    "else"
   ]
  }
 ],
 "metadata": {
  "kernelspec": {
   "display_name": "Python 3",
   "language": "python",
   "name": "python3"
  },
  "language_info": {
   "codemirror_mode": {
    "name": "ipython",
    "version": 3
   },
   "file_extension": ".py",
   "mimetype": "text/x-python",
   "name": "python",
   "nbconvert_exporter": "python",
   "pygments_lexer": "ipython3",
   "version": "3.10.12"
  }
 },
 "nbformat": 4,
 "nbformat_minor": 2
}
