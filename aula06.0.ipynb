{
 "cells": [
  {
   "cell_type": "markdown",
   "metadata": {},
   "source": [
    "# Loopings"
   ]
  },
  {
   "cell_type": "markdown",
   "metadata": {},
   "source": [
    "Realiza ações repetitivas."
   ]
  },
  {
   "cell_type": "markdown",
   "metadata": {},
   "source": [
    "## While"
   ]
  },
  {
   "cell_type": "code",
   "execution_count": 1,
   "metadata": {},
   "outputs": [
    {
     "name": "stdout",
     "output_type": "stream",
     "text": [
      "0, 1, 2, 3, 4, 5, 6, 7, 8, 9, "
     ]
    }
   ],
   "source": [
    "t = 0\n",
    "while t < 10:\n",
    "    print(t, end=', ')\n",
    "    t += 1"
   ]
  },
  {
   "cell_type": "markdown",
   "metadata": {},
   "source": [
    "## For"
   ]
  },
  {
   "cell_type": "code",
   "execution_count": 2,
   "metadata": {},
   "outputs": [
    {
     "name": "stdout",
     "output_type": "stream",
     "text": [
      "0, 1, 2, 3, 4, 5, 6, 7, 8, 9, "
     ]
    }
   ],
   "source": [
    "lista = [0, 1, 2, 3, 4, 5, 6, 7, 8, 9]\n",
    "for t in lista:\n",
    "    print(t, end=', ')"
   ]
  },
  {
   "cell_type": "code",
   "execution_count": 3,
   "metadata": {},
   "outputs": [
    {
     "name": "stdout",
     "output_type": "stream",
     "text": [
      "0, 1, 2, 3, 4, 5, 6, 7, 8, 9, "
     ]
    }
   ],
   "source": [
    "for i in range(10):\n",
    "    print(i, end=', ')"
   ]
  },
  {
   "cell_type": "code",
   "execution_count": 7,
   "metadata": {},
   "outputs": [
    {
     "name": "stdout",
     "output_type": "stream",
     "text": [
      "Item da lista: 30.2\n",
      "Item da lista: 55\n",
      "Item da lista: 20\n"
     ]
    }
   ],
   "source": [
    "dia = [30.2, 55, 20]\n",
    "for d in dia:\n",
    "    print(f'Item da lista: {d}')"
   ]
  },
  {
   "cell_type": "code",
   "execution_count": 9,
   "metadata": {},
   "outputs": [
    {
     "name": "stdout",
     "output_type": "stream",
     "text": [
      "Item da lista: 30.2\n",
      "Item da lista: 55\n"
     ]
    }
   ],
   "source": [
    "dia = [30.2, 55, 20]\n",
    "for d in dia:\n",
    "    if d > 30:\n",
    "        print(f'Item da lista: {d}')"
   ]
  },
  {
   "cell_type": "markdown",
   "metadata": {},
   "source": [
    "# Exercícios"
   ]
  },
  {
   "cell_type": "markdown",
   "metadata": {},
   "source": [
    "1. Escreva um programa que imprima todos os números pares de 1 a 10 usando um loop for e uma instrução condicional if.\n",
    "2. Escreva um programa que imprima todos os números ímpares de 1 a 10 usando um loop for e uma instrução condicional if.\n",
    "3. Escreva um programa que imprima os números de 1 a 10, pulando o número 5 usando um loop for e uma instrução condicional if.\n",
    "4. Escreva um programa que imprima os números de 1 a 20, mas substitua os múltiplos de 3 por \"Fizz\" e os múltiplos de 5 por \"Buzz\" usando um loop for e uma instrução condicional if.\n",
    "5. Escreva um programa que calcule a soma de todos os números pares de 1 a 10 usando um loop for e uma instrução condicional if.\n",
    "6. Escreva um programa que solicite ao usuário uma senha e, em seguida, verifique se a senha inserida é igual a \"senha123\". Se for, imprima \"Acesso concedido\"; caso contrário, imprima \"Acesso negado\" usando uma instrução condicional if. O usuário pode errar 2 vezes. Na terceira ele sai do programa."
   ]
  },
  {
   "cell_type": "code",
   "execution_count": null,
   "metadata": {},
   "outputs": [],
   "source": []
  }
 ],
 "metadata": {
  "kernelspec": {
   "display_name": "Python 3",
   "language": "python",
   "name": "python3"
  },
  "language_info": {
   "codemirror_mode": {
    "name": "ipython",
    "version": 3
   },
   "file_extension": ".py",
   "mimetype": "text/x-python",
   "name": "python",
   "nbconvert_exporter": "python",
   "pygments_lexer": "ipython3",
   "version": "3.10.12"
  }
 },
 "nbformat": 4,
 "nbformat_minor": 2
}
