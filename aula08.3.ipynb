{
 "cells": [
  {
   "cell_type": "markdown",
   "metadata": {},
   "source": [
    "# Exemplo de um bom uso de funções"
   ]
  },
  {
   "cell_type": "markdown",
   "metadata": {},
   "source": [
    "Veremos nesse notebook como as funções organizam o código."
   ]
  },
  {
   "cell_type": "code",
   "execution_count": null,
   "metadata": {},
   "outputs": [],
   "source": [
    "# simulando a programação de um LED piscando de acordo com a distancia medida por\n",
    "# um sensor de ultrassom\n",
    "\n",
    "# VERSÃO 1\n",
    "from time import sleep\n",
    "\n",
    "def acenderLed(pinLed):\n",
    "    print(f\"Led {pinLed}: ACESO\")\n",
    "\n",
    "def apagarLed(pinLed):\n",
    "    print(f\"Led {pinLed}: APAGADO\")\n",
    "\n",
    "distancia = int(input('Digite a distancia medida pelo sensor'))\n",
    "led_vermelho = 8\n",
    "\n",
    "while True:\n",
    "    if distancia < 20:\n",
    "        acenderLed(led_vermelho)\n",
    "        sleep(2)\n",
    "        apagarLed(led_vermelho)\n",
    "        sleep(2)\n",
    "    else:\n",
    "        acenderLed(led_vermelho)\n",
    "        sleep(5)\n",
    "        apagarLed(led_vermelho)\n",
    "        sleep(5)\n"
   ]
  },
  {
   "cell_type": "code",
   "execution_count": null,
   "metadata": {},
   "outputs": [],
   "source": [
    "# VERSÃO 2\n",
    "from time import sleep\n",
    "\n",
    "def acenderLed(pinLed):\n",
    "    print(f\"Led {pinLed}: ACESO\")\n",
    "\n",
    "def apagarLed(pinLed):\n",
    "    print(f\"Led {pinLed}: APAGADO\")\n",
    "\n",
    "def piscarLed(pinLed, tempo): # organizamos uma outra função para piscar o LED\n",
    "    acenderLed(pinLed)\n",
    "    sleep(tempo)\n",
    "    apagarLed(pinLed)\n",
    "    sleep(tempo)\n",
    "\n",
    "distancia = int(input('Digite a distancia medida pelo sensor'))\n",
    "led_vermelho = 8\n",
    "\n",
    "while True:\n",
    "    if distancia < 20:\n",
    "        piscarLed(led_vermelho, 2)\n",
    "    else:\n",
    "        piscarLed(led_vermelho, 5)\n"
   ]
  },
  {
   "cell_type": "code",
   "execution_count": null,
   "metadata": {},
   "outputs": [],
   "source": [
    "# VERSÃO 3\n",
    "from time import sleep\n",
    "\n",
    "distancia = int(input('Digite a distancia medida pelo sensor'))\n",
    "led_vermelho = 8\n",
    "\n",
    "def acenderLed(pinLed):\n",
    "    print(f\"Led {pinLed}: ACESO\")\n",
    "\n",
    "def apagarLed(pinLed):\n",
    "    print(f\"Led {pinLed}: APAGADO\")\n",
    "\n",
    "def piscarLed(pinLed, tempo):\n",
    "    acenderLed(pinLed)\n",
    "    sleep(tempo)\n",
    "    apagarLed(pinLed)\n",
    "    sleep(tempo)\n",
    "\n",
    "def looping():\n",
    "    while True:\n",
    "        if distancia < 20:\n",
    "            piscarLed(led_vermelho, 2)\n",
    "        else:\n",
    "            piscarLed(led_vermelho, 5)\n",
    "\n",
    "looping()"
   ]
  },
  {
   "cell_type": "code",
   "execution_count": null,
   "metadata": {},
   "outputs": [],
   "source": [
    "# VERSÃO 4 - FINAL\n",
    "from time import sleep\n",
    "\n",
    "def dados():\n",
    "    distancia = int(input('Digite a distancia medida pelo sensor'))\n",
    "    led_vermelho = 8\n",
    "    return distancia, led_vermelho\n",
    "\n",
    "def acenderLed(pinLed):\n",
    "    print(f\"Led {pinLed}: ACESO\")\n",
    "\n",
    "def apagarLed(pinLed):\n",
    "    print(f\"Led {pinLed}: APAGADO\")\n",
    "\n",
    "def piscarLed(pinLed, tempo):\n",
    "    acenderLed(pinLed)\n",
    "    sleep(tempo)\n",
    "    apagarLed(pinLed)\n",
    "    sleep(tempo)\n",
    "\n",
    "def looping():\n",
    "    distancia, led_vermelho = dados()\n",
    "    if distancia < 20:\n",
    "        piscarLed(led_vermelho, 2)\n",
    "    else:\n",
    "        piscarLed(led_vermelho, 5)\n",
    "\n",
    "def principal():\n",
    "    while True:\n",
    "        looping()\n",
    "\n",
    "principal()"
   ]
  },
  {
   "cell_type": "code",
   "execution_count": null,
   "metadata": {},
   "outputs": [],
   "source": []
  }
 ],
 "metadata": {
  "kernelspec": {
   "display_name": "Python 3",
   "language": "python",
   "name": "python3"
  },
  "language_info": {
   "codemirror_mode": {
    "name": "ipython",
    "version": 3
   },
   "file_extension": ".py",
   "mimetype": "text/x-python",
   "name": "python",
   "nbconvert_exporter": "python",
   "pygments_lexer": "ipython3",
   "version": "3.10.12"
  }
 },
 "nbformat": 4,
 "nbformat_minor": 2
}
