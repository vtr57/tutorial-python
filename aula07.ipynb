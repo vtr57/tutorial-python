{
 "cells": [
  {
   "cell_type": "markdown",
   "metadata": {},
   "source": [
    "# Dicionários"
   ]
  },
  {
   "cell_type": "markdown",
   "metadata": {},
   "source": [
    "São estruturas de dados que adicionam uma chave e um valor (key-value)."
   ]
  },
  {
   "cell_type": "code",
   "execution_count": 4,
   "metadata": {},
   "outputs": [],
   "source": [
    "cadastro = {'nome': 'Vitor', 'profissão': 'Professor'}\n",
    "#            chave   valor      chave        valor"
   ]
  },
  {
   "cell_type": "code",
   "execution_count": 8,
   "metadata": {},
   "outputs": [
    {
     "name": "stdout",
     "output_type": "stream",
     "text": [
      "Nome: Vitor\n"
     ]
    }
   ],
   "source": [
    "# acessando valores\n",
    "print(f\"Nome: {cadastro['nome']}\")"
   ]
  },
  {
   "cell_type": "code",
   "execution_count": 10,
   "metadata": {},
   "outputs": [
    {
     "data": {
      "text/plain": [
       "10000.0"
      ]
     },
     "execution_count": 10,
     "metadata": {},
     "output_type": "execute_result"
    }
   ],
   "source": [
    "# adicionando valores\n",
    "cadastro['salário'] = 1e4\n",
    "cadastro['salário']"
   ]
  },
  {
   "cell_type": "markdown",
   "metadata": {},
   "source": [
    "## For em dicionários"
   ]
  },
  {
   "cell_type": "code",
   "execution_count": 14,
   "metadata": {},
   "outputs": [
    {
     "name": "stdout",
     "output_type": "stream",
     "text": [
      "nome\n",
      "profissão\n",
      "salário\n"
     ]
    }
   ],
   "source": [
    "for i in cadastro.keys():\n",
    "    print(i)"
   ]
  },
  {
   "cell_type": "code",
   "execution_count": 15,
   "metadata": {},
   "outputs": [
    {
     "name": "stdout",
     "output_type": "stream",
     "text": [
      "Vitor\n",
      "Professor\n",
      "10000.0\n"
     ]
    }
   ],
   "source": [
    "for i in cadastro.values():\n",
    "    print(i)"
   ]
  },
  {
   "cell_type": "code",
   "execution_count": 19,
   "metadata": {},
   "outputs": [
    {
     "name": "stdout",
     "output_type": "stream",
     "text": [
      "nome : Vitor\n",
      "profissão : Professor\n",
      "salário : 10000.0\n"
     ]
    }
   ],
   "source": [
    "for i, j in cadastro.items():\n",
    "    print(f'{i} : {j}')"
   ]
  },
  {
   "cell_type": "markdown",
   "metadata": {},
   "source": [
    "## Unpack de dicionários"
   ]
  },
  {
   "cell_type": "code",
   "execution_count": 27,
   "metadata": {},
   "outputs": [
    {
     "name": "stdout",
     "output_type": "stream",
     "text": [
      "('H', 1) ('He', 2) [('Li', 3), ('Be', 4), ('B', 5)]\n"
     ]
    }
   ],
   "source": [
    "massa_atomica = {'H': 1, 'He': 2, 'Li': 3, 'Be': 4, 'B': 5}\n",
    "H, He, *outros = massa_atomica.items()\n",
    "print(H, He, outros)"
   ]
  },
  {
   "cell_type": "markdown",
   "metadata": {},
   "source": [
    "# Exercícios"
   ]
  },
  {
   "cell_type": "markdown",
   "metadata": {},
   "source": [
    "1. Crie um dicionário vazio chamado pessoa e adicione as chaves \"nome\" e \"idade\" com seus valores correspondentes.\n",
    "2. Crie um dicionário que represente um estoque de produtos de uma loja. Adicione alguns produtos com seus preços.\n",
    "3. Escreva um programa que itere sobre o dicionário do exercício 2 e exiba o nome e o preço de cada produto.\n",
    "4. Crie um dicionário que contenha palavras como chaves e seus significados como valores. Peça ao usuário para digitar uma palavra e exiba seu significado.\n",
    "5. Crie um dicionário de cores onde as chaves são nomes de cores e os valores são códigos hexadecimais. Em seguida, peça ao usuário para digitar uma cor e exiba seu código hexadecimal.\n",
    "6. Crie um dicionário que represente um menu de restaurante, onde as chaves são nomes de pratos e os valores são os preços. Permita que o cliente faça um pedido e calcule o total.\n",
    "7. Crie um dicionário de contatos com nomes como chaves e informações de contato (telefone, email, etc.) como valores. Permita que o usuário procure por um contato pelo nome e exiba suas informações."
   ]
  },
  {
   "cell_type": "code",
   "execution_count": null,
   "metadata": {},
   "outputs": [],
   "source": []
  }
 ],
 "metadata": {
  "kernelspec": {
   "display_name": "Python 3",
   "language": "python",
   "name": "python3"
  },
  "language_info": {
   "codemirror_mode": {
    "name": "ipython",
    "version": 3
   },
   "file_extension": ".py",
   "mimetype": "text/x-python",
   "name": "python",
   "nbconvert_exporter": "python",
   "pygments_lexer": "ipython3",
   "version": "3.10.12"
  }
 },
 "nbformat": 4,
 "nbformat_minor": 2
}
